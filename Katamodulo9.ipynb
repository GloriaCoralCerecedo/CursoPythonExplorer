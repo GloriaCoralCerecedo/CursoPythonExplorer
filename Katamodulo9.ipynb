{
 "cells": [
  {
   "cell_type": "markdown",
   "metadata": {},
   "source": [
    "# Ejercicio: Uso de funciones en Python"
   ]
  },
  {
   "cell_type": "markdown",
   "metadata": {},
   "source": [
    "## Ejercicio 1: Trabajar con argumentos en funciones"
   ]
  },
  {
   "cell_type": "code",
   "execution_count": 36,
   "metadata": {},
   "outputs": [],
   "source": [
    "def tanque(t1, t2, t3):\n",
    "    promedio = (t1+t2+t3)/3\n",
    "    return(f'Tanque 1: {t1}\\nTanque 2: {t2}\\nTanque 3: {t3}\\nEl promedio es: {promedio}')\n"
   ]
  },
  {
   "cell_type": "code",
   "execution_count": 37,
   "metadata": {},
   "outputs": [
    {
     "name": "stdout",
     "output_type": "stream",
     "text": [
      "Tanque 1: 45\n",
      "Tanque 2: 78\n",
      "Tanque 3: 100\n",
      "El promedio es: 74.33333333333333\n"
     ]
    }
   ],
   "source": [
    "print(tanque(45, 78, 100))"
   ]
  },
  {
   "cell_type": "code",
   "execution_count": 55,
   "metadata": {},
   "outputs": [],
   "source": [
    "def promedio(valores):\n",
    "    prom=sum(valores)\n",
    "    num = len(valores)\n",
    "    total = round(prom/num)\n",
    "    return(total)"
   ]
  },
  {
   "cell_type": "code",
   "execution_count": 59,
   "metadata": {},
   "outputs": [
    {
     "name": "stdout",
     "output_type": "stream",
     "text": [
      "Tanque 1: 45\n",
      "Tanque 2: 78\n",
      "Tanque 3: 100\n",
      "El promedio es: 74\n"
     ]
    }
   ],
   "source": [
    "def tanque(t1, t2, t3):\n",
    "    informe = (f'Tanque 1: {t1}\\nTanque 2: {t2}\\nTanque 3: {t3}\\nEl promedio es: {promedio([t1, t2, t3])}')\n",
    "    return informe\n",
    "print(tanque(45, 78, 100))\n"
   ]
  },
  {
   "cell_type": "markdown",
   "metadata": {},
   "source": [
    "# Ejercicio 2: Trabajo con argumentos de palabra clave"
   ]
  },
  {
   "cell_type": "markdown",
   "metadata": {},
   "source": [
    "## Ejercicio : Trabajar con argumentos de palabras clave en funciones"
   ]
  },
  {
   "cell_type": "code",
   "execution_count": 107,
   "metadata": {},
   "outputs": [],
   "source": [
    "def mision(hora_pre, tiempo_vuelo, destino, tanque_ext, tanque_inter):\n",
    "    informe1 = (f'Hora de prelanzamiento: {hora_pre}\\nTiempo de vuelo: {tiempo_vuelo}\\nDestino: {destino}\\nTanque interior: {tanque_inter}\\nTanque exterior: {tanque_ext}')\n",
    "    informe2 = (f'\\nTiempo total de viaje: {hora_pre+tiempo_vuelo}\\nCombustible total restante:{tanque_ext+tanque_inter}')\n",
    "    return (f'{informe1} \\n----------------------------------- {informe2}')"
   ]
  },
  {
   "cell_type": "code",
   "execution_count": 108,
   "metadata": {},
   "outputs": [
    {
     "name": "stdout",
     "output_type": "stream",
     "text": [
      "Hora de prelanzamiento: 16\n",
      "Tiempo de vuelo: 24\n",
      "Destino: Luna\n",
      "Tanque interior: 650\n",
      "Tanque exterior: 240 \n",
      "----------------------------------- \n",
      "Tiempo total de viaje: 40\n",
      "Combustible total restante:890\n"
     ]
    }
   ],
   "source": [
    "print(mision(16, 24, 'Luna', 240, 650))"
   ]
  },
  {
   "cell_type": "code",
   "execution_count": 117,
   "metadata": {},
   "outputs": [],
   "source": [
    "def mision(destino, *minutos, **depósitos_combustible):\n",
    "    informe1 = (f'Hora de prelanzamiento y Tiempo de vuelo: {minutos}\\nDestino: {destino}\\nTanques: {depósitos_combustible}')\n",
    "    informe2 = (f'\\nTiempo total de viaje: {sum(minutos)} minutos\\nCombustible total restante: {sum(depósitos_combustible.values())} galones')\n",
    "    return (f'{informe1} \\n---------------------------------------------------------------------- {informe2}')\n"
   ]
  },
  {
   "cell_type": "code",
   "execution_count": 119,
   "metadata": {},
   "outputs": [
    {
     "name": "stdout",
     "output_type": "stream",
     "text": [
      "Hora de prelanzamiento y Tiempo de vuelo: (16, 24, 42)\n",
      "Destino: Luna\n",
      "Tanques: {'interior': 650, 'exterior': 240} \n",
      "---------------------------------------------------------------------- \n",
      "Tiempo total de viaje: 82 minutos\n",
      "Combustible total restante: 890 galones\n"
     ]
    }
   ],
   "source": [
    "print(mision('Luna', 16, 24, 42, interior= 650, exterior=240))"
   ]
  },
  {
   "cell_type": "code",
   "execution_count": 123,
   "metadata": {},
   "outputs": [],
   "source": [
    "def mision(destino, *minutos, **depósitos_combustible):\n",
    "    informe1 = (f'Hora de prelanzamiento y Tiempo de vuelo: {minutos}\\nDestino: {destino}\\nTanque interior y exterior: {depósitos_combustible}')\n",
    "    informe2 = (f'\\nTiempo total de viaje: {sum(minutos)} minutos\\nCombustible total restante: {sum(depósitos_combustible.values())} galones')\n",
    "    return (f'{informe1} \\n---------------------------------------------------------------------- {informe2}')"
   ]
  },
  {
   "cell_type": "code",
   "execution_count": 124,
   "metadata": {},
   "outputs": [
    {
     "name": "stdout",
     "output_type": "stream",
     "text": [
      "Hora de prelanzamiento y Tiempo de vuelo: (16, 24, 42)\n",
      "Destino: Luna\n",
      "Tanque interior y exterior: {'interior': 650, 'exterior': 240} \n",
      "---------------------------------------------------------------------- \n",
      "Tiempo total de viaje: 82 minutos\n",
      "Combustible total restante: 890 galones\n"
     ]
    }
   ],
   "source": [
    "print(mision('Luna', 16, 24, 42, interior= 650, exterior=240))"
   ]
  }
 ],
 "metadata": {
  "interpreter": {
   "hash": "6c54dd2acce47d382f1c0d731a0e93a957158144cae475304bbadc92aa31b24f"
  },
  "kernelspec": {
   "display_name": "Python 3.10.2 64-bit",
   "language": "python",
   "name": "python3"
  },
  "language_info": {
   "codemirror_mode": {
    "name": "ipython",
    "version": 3
   },
   "file_extension": ".py",
   "mimetype": "text/x-python",
   "name": "python",
   "nbconvert_exporter": "python",
   "pygments_lexer": "ipython3",
   "version": "3.10.2"
  },
  "orig_nbformat": 4
 },
 "nbformat": 4,
 "nbformat_minor": 2
}
