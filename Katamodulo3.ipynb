{
 "cells": [
  {
   "cell_type": "markdown",
   "metadata": {},
   "source": [
    "# Ejercicio - Escribir declaraciones if, else, y elif"
   ]
  },
  {
   "cell_type": "code",
   "execution_count": 2,
   "metadata": {},
   "outputs": [
    {
     "name": "stdout",
     "output_type": "stream",
     "text": [
      "¡Cuidado un asteroide se acerca a la tierra!\n"
     ]
    }
   ],
   "source": [
    "asteroide1 = 49\n",
    "if asteroide1 > 25:\n",
    "   print(\"¡Cuidado un asteroide se acerca a la tierra!\")\n",
    "else:\n",
    "   print(\"¡Todo esta en orden ten un buen día!\")"
   ]
  },
  {
   "cell_type": "code",
   "execution_count": 4,
   "metadata": {},
   "outputs": [
    {
     "name": "stdout",
     "output_type": "stream",
     "text": [
      "Es un día común y corriente\n"
     ]
    }
   ],
   "source": [
    "asteroide2 = 19\n",
    "if asteroide2 >20:\n",
    "    print(\"¡Mira al cielo! Trata de ver el asteroide\")\n",
    "elif asteroide2 ==20:\n",
    "    print(\"¡Mira al cielo! Trata de ver el asteroide\")\n",
    "else:\n",
    "    print(\"Es un día común y corriente\")"
   ]
  },
  {
   "cell_type": "markdown",
   "metadata": {},
   "source": [
    "# Ejercicio: Uso de operadores and y or"
   ]
  },
  {
   "cell_type": "code",
   "execution_count": 40,
   "metadata": {},
   "outputs": [
    {
     "name": "stdout",
     "output_type": "stream",
     "text": [
      "¡Cuidado un asteroide se acerca a la tierra!\n"
     ]
    }
   ],
   "source": [
    "tamañoaste = 70\n",
    "velocidadaste = 30\n",
    "if tamañoaste > 25 and velocidadaste > 25:\n",
    "    print(\"¡Cuidado un asteroide se acerca a la tierra!\")\n",
    "elif tamañoaste >1000:\n",
    "    print(\"¡El asteroide es muy grande! Se dirige a la tierra\")\n",
    "elif velocidadaste >=20:\n",
    "    print(\"¡Mira al cielo! Trata de ver el asteroide\")\n",
    "elif tamañoaste < 25:\n",
    "    print(\"Es un día común y corriente\")\n",
    "else:\n",
    "    print(\"¡Todo esta en orden ten un buen día!\")\n",
    "\n"
   ]
  }
 ],
 "metadata": {
  "interpreter": {
   "hash": "6c54dd2acce47d382f1c0d731a0e93a957158144cae475304bbadc92aa31b24f"
  },
  "kernelspec": {
   "display_name": "Python 3.10.2 64-bit",
   "language": "python",
   "name": "python3"
  },
  "language_info": {
   "codemirror_mode": {
    "name": "ipython",
    "version": 3
   },
   "file_extension": ".py",
   "mimetype": "text/x-python",
   "name": "python",
   "nbconvert_exporter": "python",
   "pygments_lexer": "ipython3",
   "version": "3.10.2"
  },
  "orig_nbformat": 4
 },
 "nbformat": 4,
 "nbformat_minor": 2
}
